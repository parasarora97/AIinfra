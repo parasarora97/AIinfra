{
 "cells": [
  {
   "cell_type": "code",
   "execution_count": 4,
   "id": "ec6cd5ed",
   "metadata": {},
   "outputs": [
    {
     "name": "stdout",
     "output_type": "stream",
     "text": [
      "[\n",
      "    {\n",
      "        \"translations\": [\n",
      "            {\n",
      "                \"text\": \"Alles rund um Paulo Coelho ist superlativ. Vom Gästebad mit einem von Andy Warhol signierten Gemälde bis zum gläsernen Aufzug, der vom Wohnzimmer auf die riesige Terrasse unter den Schweizer Alpen führt. Von den mehr als 325 Millionen verkauften Büchern und einer Milliarde Lesern in 150 Ländern, auf den Rekord für den weltweit meistübersetzten lebenden Schriftsteller und fast 50 Millionen Follower in sozialen Netzwerken. Von der Folter, der er 1974 drei Monate lang ausgesetzt war, bis hin zu der harten Art und Weise, wie er die brasilianische Regierung 2019 kritisiert. Das historische Engagement besteht nicht darin, zu schweigen. Ich muss reden. Werde ich Leser verlieren? Ich werde gehen. Habe ich verloren? Sollte ich verlieren? Ich weiß nicht, ich weiß nicht Ich zähle nicht weiter, sagt er, während seine Frau Christina Oiticica, die das Interview begleitet, sich mit einer leichten Geste der Zustimmung niederließ. In Büchern wie Hippie, dem jüngsten (2018) oder The Aleph, 2010, warnt Paulo Coelho davor, dass die Vergangenheit die Gegenwart zerstören kann. Aber in diesem Interview beschließt er, sich im Detail an die Monate zu erinnern, in denen er geschlagen wurde, seine Genitalien an Elektroden hängen ließ und nackt, mit Kapuze, in einem kalten und dunklen Raum von Agenten der Diktatur eingesperrt wurde.\",\n",
      "                \"to\": \"de\"\n",
      "            },\n",
      "            {\n",
      "                \"text\": \"Tutto intorno a Paulo Coelho è superlativo. Dal bagno degli ospiti decorato con un dipinto firmato da Andy Warhol all'ascensore di vetro che va dal soggiorno all'enorme terrazza sotto le Alpi svizzere. Degli oltre 325 milioni di libri venduti e un miliardo di lettori in 150 paesi, al record per lo scrittore vivente più tradotto al mondo e quasi 50 milioni di follower sui social network. Dalla tortura a cui è stato sottoposto per tre mesi, nel 1974, al modo duro in cui critica il governo brasiliano nel 2019. L'impegno storico non è quello di tacere. Devo parlare. Perderò lettori? Me ne vado. Ho perso? Dovrei perdere? Non lo so, non lo so Non continuo a contare - dice - mentre sua moglie Christina Oiticica, che accompagna l'intervista, si è sistemata con un leggero gesto di approvazione. In libri come Hippie, il più recente (2018), o The Aleph, 2010, Paulo Coelho avverte che il passato può distruggere il presente. Ma in questa intervista, decide di ricordare nel dettaglio i mesi in cui è stato picchiato, ha attaccato i genitali agli elettrodi ed è stato chiuso nudo, con un cappuccio, in una stanza fredda e buia dagli agenti della dittatura.\",\n",
      "                \"to\": \"it\"\n",
      "            },\n",
      "            {\n",
      "                \"text\": \"Tout autour de Paulo Coelho est superlatif. De la salle de bain d’invités décorée d’un tableau signé par Andy Warhol à l’ascenseur en verre qui va du salon à l’immense terrasse sous les Alpes suisses. Sur les plus de 325 millions de livres vendus et un milliard de lecteurs dans 150 pays, au record de l’écrivain vivant le plus traduit au monde et près de 50 millions d’abonnés sur les réseaux sociaux. De la torture qu’il a soumise pendant trois mois, en 1974, à la manière percutante dont il critique le gouvernement brésilien en 2019. L’engagement historique n’est pas de se taire. Je dois parler. Est-ce que je vais perdre des lecteurs? Je vais y aller. Ai-je perdu? Devrais-je perdre? Je ne sais pas, je ne sais pas Je ne continue pas à compter, dit-il, tandis que sa femme Christina Oiticica, qui accompagne l’interview, s’est installée avec un léger geste d’approbation. Dans des livres comme Hippie, le plus récent (2018), ou The Aleph, 2010, Paulo Coelho prévient que le passé peut détruire le présent. Mais dans cette interview, il décide de se souvenir en détail des mois où il a été battu, a eu ses organes génitaux attachés à des électrodes et a été enfermé nu, avec une cagoule, dans une pièce froide et sombre par des agents de la dictature.\",\n",
      "                \"to\": \"fr\"\n",
      "            },\n",
      "            {\n",
      "                \"text\": \"Everything around Paulo Coelho is superlative. From the guest bathroom decorated with a painting signed by Andy Warhol to the glass elevator that runs from the living room to the huge terrace under the Swiss Alps. Of the more than 325 million books sold and one billion readers in 150 countries, to the record for the world's most translated living writer and nearly 50 million followers on social networks. From the torture to which he was subjected for three months, in 1974, to the hard-hitting way he criticizes the Brazilian government in 2019. The historical commitment is not to keep quiet. I have to talk. Am I going to lose readers? I'm going to go. Have I lost? Should I be losing? I don't know, i don't know I don't keep counting, he says, while his wife Christina Oiticica, who accompanies the interview, settled down with a slight gesture of approval. In books such as Hippie, the most recent (2018), or The Aleph, 2010, Paulo Coelho warns that the past can destroy the present. But in this interview, he decides to remember in detail the months he was beaten, had his genitals attached to electrodes and was locked naked, with a hood, in a cold and dark room by agents of the dictatorship.\",\n",
      "                \"to\": \"en\"\n",
      "            }\n",
      "        ]\n",
      "    }\n",
      "]\n"
     ]
    }
   ],
   "source": [
    "import requests, uuid, json\n",
    "\n",
    "# Add your subscription key and endpoint\n",
    "subscription_key = \"PASTE_YOUR_SUBSCRIPTION_KEY_HERE\"\n",
    "endpoint = \"PASTE_YOUR_ENDPOINT_HERE\"\n",
    "\n",
    "# Add your location, also known as region. The default is global.\n",
    "# This is required if using a Cognitive Services resource.\n",
    "location = \"eastus\"\n",
    "\n",
    "path = '/translate'\n",
    "constructed_url = endpoint + path\n",
    "\n",
    "params = {\n",
    "    'api-version': '3.0',\n",
    "    'from': 'pt',\n",
    "    'to': ['de', 'it']\n",
    "}\n",
    "constructed_url = endpoint + path\n",
    "\n",
    "headers = {\n",
    "    'Ocp-Apim-Subscription-Key': subscription_key,\n",
    "    'Ocp-Apim-Subscription-Region': location,\n",
    "    'Content-type': 'application/json',\n",
    "    'X-ClientTraceId': str(uuid.uuid4())\n",
    "}\n",
    "\n",
    "# You can pass more than one object in body.\n",
    "body = [{\n",
    "    'text': 'Ola! Como vai?'\n",
    "}]\n",
    "\n",
    "request = requests.post(constructed_url, params=params, headers=headers, json=body)\n",
    "response = request.json()\n",
    "\n",
    "print(json.dumps(response, sort_keys=True, ensure_ascii=False, indent=4, separators=(',', ': ')))"
   ]
  },
  {
   "cell_type": "code",
   "execution_count": null,
   "id": "ee8c5d26",
   "metadata": {},
   "outputs": [],
   "source": []
  },
  {
   "cell_type": "code",
   "execution_count": null,
   "id": "fd3ceb83",
   "metadata": {},
   "outputs": [],
   "source": []
  }
 ],
 "metadata": {
  "kernelspec": {
   "display_name": "Python 3 (ipykernel)",
   "language": "python",
   "name": "python3"
  },
  "language_info": {
   "codemirror_mode": {
    "name": "ipython",
    "version": 3
   },
   "file_extension": ".py",
   "mimetype": "text/x-python",
   "name": "python",
   "nbconvert_exporter": "python",
   "pygments_lexer": "ipython3",
   "version": "3.10.10"
  }
 },
 "nbformat": 4,
 "nbformat_minor": 5
}
